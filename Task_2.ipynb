{
  "nbformat": 4,
  "nbformat_minor": 0,
  "metadata": {
    "colab": {
      "provenance": []
    },
    "kernelspec": {
      "name": "python3",
      "display_name": "Python 3"
    },
    "language_info": {
      "name": "python"
    }
  },
  "cells": [
    {
      "cell_type": "code",
      "execution_count": 1,
      "metadata": {
        "colab": {
          "base_uri": "https://localhost:8080/",
          "height": 630
        },
        "id": "4buUmbCzJkFZ",
        "outputId": "de70746e-5ac4-42e6-fb42-20476f331e38"
      },
      "outputs": [
        {
          "output_type": "stream",
          "name": "stdout",
          "text": [
            "1/1 [==============================] - 1s 1s/step\n",
            "RMSE for year 2014: 2.453552734375023\n",
            "2/2 [==============================] - 1s 36ms/step\n",
            "RMSE for year 2015: 129.05907026880303\n",
            "2/2 [==============================] - 1s 34ms/step\n",
            "RMSE for year 2016: 91.80573306175889\n",
            "2/2 [==============================] - 1s 38ms/step\n",
            "RMSE for year 2017: 2988.3205824494557\n"
          ]
        },
        {
          "output_type": "stream",
          "name": "stderr",
          "text": [
            "WARNING:tensorflow:5 out of the last 8 calls to <function Model.make_predict_function.<locals>.predict_function at 0x7f30823ae3b0> triggered tf.function retracing. Tracing is expensive and the excessive number of tracings could be due to (1) creating @tf.function repeatedly in a loop, (2) passing tensors with different shapes, (3) passing Python objects instead of tensors. For (1), please define your @tf.function outside of the loop. For (2), @tf.function has reduce_retracing=True option that can avoid unnecessary retracing. For (3), please refer to https://www.tensorflow.org/guide/function#controlling_retracing and https://www.tensorflow.org/api_docs/python/tf/function for  more details.\n"
          ]
        },
        {
          "output_type": "stream",
          "name": "stdout",
          "text": [
            "2/2 [==============================] - 1s 47ms/step\n",
            "RMSE for year 2018: 687.8520558166077\n"
          ]
        },
        {
          "output_type": "stream",
          "name": "stderr",
          "text": [
            "WARNING:tensorflow:6 out of the last 10 calls to <function Model.make_predict_function.<locals>.predict_function at 0x7f3081cb4c10> triggered tf.function retracing. Tracing is expensive and the excessive number of tracings could be due to (1) creating @tf.function repeatedly in a loop, (2) passing tensors with different shapes, (3) passing Python objects instead of tensors. For (1), please define your @tf.function outside of the loop. For (2), @tf.function has reduce_retracing=True option that can avoid unnecessary retracing. For (3), please refer to https://www.tensorflow.org/guide/function#controlling_retracing and https://www.tensorflow.org/api_docs/python/tf/function for  more details.\n"
          ]
        },
        {
          "output_type": "stream",
          "name": "stdout",
          "text": [
            "2/2 [==============================] - 1s 34ms/step\n",
            "RMSE for year 2019: 664.9971683120153\n",
            "2/2 [==============================] - 1s 34ms/step\n",
            "RMSE for year 2020: 1836.6272508457012\n",
            "2/2 [==============================] - 3s 36ms/step\n",
            "RMSE for year 2021: 2609.787110378389\n"
          ]
        },
        {
          "output_type": "error",
          "ename": "IndexError",
          "evalue": "tuple index out of range",
          "traceback": [
            "\u001b[0;31m---------------------------------------------------------------------------\u001b[0m",
            "\u001b[0;31mIndexError\u001b[0m                                Traceback (most recent call last)",
            "\u001b[0;32m<ipython-input-1-4701ab73a09c>\u001b[0m in \u001b[0;36m<cell line: 76>\u001b[0;34m()\u001b[0m\n\u001b[1;32m     74\u001b[0m \u001b[0;34m\u001b[0m\u001b[0m\n\u001b[1;32m     75\u001b[0m \u001b[0;31m# Predict stock prices and compare year-wise\u001b[0m\u001b[0;34m\u001b[0m\u001b[0;34m\u001b[0m\u001b[0m\n\u001b[0;32m---> 76\u001b[0;31m \u001b[0mpredict_stock_price\u001b[0m\u001b[0;34m(\u001b[0m\u001b[0mdata\u001b[0m\u001b[0;34m)\u001b[0m\u001b[0;34m\u001b[0m\u001b[0;34m\u001b[0m\u001b[0m\n\u001b[0m",
            "\u001b[0;32m<ipython-input-1-4701ab73a09c>\u001b[0m in \u001b[0;36mpredict_stock_price\u001b[0;34m(data, time_step, epochs)\u001b[0m\n\u001b[1;32m     35\u001b[0m             \u001b[0my\u001b[0m\u001b[0;34m.\u001b[0m\u001b[0mappend\u001b[0m\u001b[0;34m(\u001b[0m\u001b[0mscaled_data\u001b[0m\u001b[0;34m[\u001b[0m\u001b[0mi\u001b[0m \u001b[0;34m+\u001b[0m \u001b[0mtime_step\u001b[0m\u001b[0;34m,\u001b[0m \u001b[0;36m0\u001b[0m\u001b[0;34m]\u001b[0m\u001b[0;34m)\u001b[0m\u001b[0;34m\u001b[0m\u001b[0;34m\u001b[0m\u001b[0m\n\u001b[1;32m     36\u001b[0m         \u001b[0mX\u001b[0m\u001b[0;34m,\u001b[0m \u001b[0my\u001b[0m \u001b[0;34m=\u001b[0m \u001b[0mnp\u001b[0m\u001b[0;34m.\u001b[0m\u001b[0marray\u001b[0m\u001b[0;34m(\u001b[0m\u001b[0mX\u001b[0m\u001b[0;34m)\u001b[0m\u001b[0;34m,\u001b[0m \u001b[0mnp\u001b[0m\u001b[0;34m.\u001b[0m\u001b[0marray\u001b[0m\u001b[0;34m(\u001b[0m\u001b[0my\u001b[0m\u001b[0;34m)\u001b[0m\u001b[0;34m\u001b[0m\u001b[0;34m\u001b[0m\u001b[0m\n\u001b[0;32m---> 37\u001b[0;31m         \u001b[0mX\u001b[0m \u001b[0;34m=\u001b[0m \u001b[0mnp\u001b[0m\u001b[0;34m.\u001b[0m\u001b[0mreshape\u001b[0m\u001b[0;34m(\u001b[0m\u001b[0mX\u001b[0m\u001b[0;34m,\u001b[0m \u001b[0;34m(\u001b[0m\u001b[0mX\u001b[0m\u001b[0;34m.\u001b[0m\u001b[0mshape\u001b[0m\u001b[0;34m[\u001b[0m\u001b[0;36m0\u001b[0m\u001b[0;34m]\u001b[0m\u001b[0;34m,\u001b[0m \u001b[0mX\u001b[0m\u001b[0;34m.\u001b[0m\u001b[0mshape\u001b[0m\u001b[0;34m[\u001b[0m\u001b[0;36m1\u001b[0m\u001b[0;34m]\u001b[0m\u001b[0;34m,\u001b[0m \u001b[0;36m1\u001b[0m\u001b[0;34m)\u001b[0m\u001b[0;34m)\u001b[0m\u001b[0;34m\u001b[0m\u001b[0;34m\u001b[0m\u001b[0m\n\u001b[0m\u001b[1;32m     38\u001b[0m         \u001b[0;31m# Split the data into training and testing sets (80-20 split)\u001b[0m\u001b[0;34m\u001b[0m\u001b[0;34m\u001b[0m\u001b[0m\n\u001b[1;32m     39\u001b[0m         \u001b[0mtrain_size\u001b[0m \u001b[0;34m=\u001b[0m \u001b[0mint\u001b[0m\u001b[0;34m(\u001b[0m\u001b[0mlen\u001b[0m\u001b[0;34m(\u001b[0m\u001b[0mX\u001b[0m\u001b[0;34m)\u001b[0m \u001b[0;34m*\u001b[0m \u001b[0;36m0.8\u001b[0m\u001b[0;34m)\u001b[0m\u001b[0;34m\u001b[0m\u001b[0;34m\u001b[0m\u001b[0m\n",
            "\u001b[0;31mIndexError\u001b[0m: tuple index out of range"
          ]
        }
      ],
      "source": [
        "import numpy as np\n",
        "import pandas as pd\n",
        "import matplotlib.pyplot as plt\n",
        "from sklearn.preprocessing import MinMaxScaler\n",
        "from sklearn.metrics import mean_squared_error\n",
        "from tensorflow.keras.models import Sequential\n",
        "from tensorflow.keras.layers import LSTM, Dense, Dropout\n",
        "\n",
        "# Load the dataset\n",
        "data = pd.read_csv(\"BTC-USD.csv\")\n",
        "# Convert 'Date' column to datetime\n",
        "data['Date'] = pd.to_datetime(data['Date'])\n",
        "# Sort by date\n",
        "data.sort_values('Date', inplace=True)\n",
        "# Set 'Date' column as index\n",
        "data.set_index('Date', inplace=True)\n",
        "\n",
        "# Function to perform LSTM-based stock price prediction\n",
        "def predict_stock_price(data, time_step=100, epochs=100):\n",
        "    # Initialize lists to store predicted and actual prices\n",
        "    predicted_prices = []\n",
        "    actual_prices = []\n",
        "    # Iterate over years\n",
        "    years = data.index.year.unique()\n",
        "    for year in years:\n",
        "        # Select data for the current year\n",
        "        year_data = data[data.index.year == year]\n",
        "        # Normalize the data\n",
        "        scaler = MinMaxScaler(feature_range=(0, 1))\n",
        "        scaled_data = scaler.fit_transform(year_data['Close'].values.reshape(-1,1))\n",
        "        # Prepare the data for training\n",
        "        X, y = [], []\n",
        "        for i in range(len(scaled_data) - time_step - 1):\n",
        "            X.append(scaled_data[i:(i+time_step), 0])\n",
        "            y.append(scaled_data[i + time_step, 0])\n",
        "        X, y = np.array(X), np.array(y)\n",
        "        X = np.reshape(X, (X.shape[0], X.shape[1], 1))\n",
        "        # Split the data into training and testing sets (80-20 split)\n",
        "        train_size = int(len(X) * 0.8)\n",
        "        X_train, X_test = X[:train_size], X[train_size:]\n",
        "        y_train, y_test = y[:train_size], y[train_size:]\n",
        "        # Build the LSTM model\n",
        "        model = Sequential()\n",
        "        model.add(LSTM(units=50, return_sequences=True, input_shape=(X_train.shape[1], 1)))\n",
        "        model.add(Dropout(0.2))\n",
        "        model.add(LSTM(units=50, return_sequences=True))\n",
        "        model.add(Dropout(0.2))\n",
        "        model.add(LSTM(units=50))\n",
        "        model.add(Dropout(0.2))\n",
        "        model.add(Dense(units=1))\n",
        "        # Compile the model\n",
        "        model.compile(optimizer='adam', loss='mean_squared_error')\n",
        "        # Train the model\n",
        "        model.fit(X_train, y_train, epochs=epochs, batch_size=32, verbose=0)\n",
        "        # Make predictions\n",
        "        predicted_stock_price = model.predict(X_test)\n",
        "        predicted_stock_price = scaler.inverse_transform(predicted_stock_price)\n",
        "        actual_stock_price = scaler.inverse_transform(y_test.reshape(-1,1))\n",
        "        # Store the predicted and actual prices\n",
        "        predicted_prices.extend(predicted_stock_price)\n",
        "        actual_prices.extend(actual_stock_price)\n",
        "        # Print RMSE for the current year\n",
        "        rmse = np.sqrt(mean_squared_error(actual_stock_price, predicted_stock_price))\n",
        "        print(f\"RMSE for year {year}: {rmse}\")\n",
        "    # Plot actual vs predicted prices\n",
        "    plt.figure(figsize=(12, 6))\n",
        "    plt.plot(actual_prices, color='blue', label='Actual Price')\n",
        "    plt.plot(predicted_prices, color='red', label='Predicted Price')\n",
        "    plt.title('Actual vs Predicted Stock Prices')\n",
        "    plt.xlabel('Time')\n",
        "    plt.ylabel('Stock Price')\n",
        "    plt.legend()\n",
        "    plt.show()\n",
        "\n",
        "# Predict stock prices and compare year-wise\n",
        "predict_stock_price(data)"
      ]
    }
  ]
}